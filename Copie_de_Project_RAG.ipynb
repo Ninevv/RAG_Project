{
  "nbformat": 4,
  "nbformat_minor": 0,
  "metadata": {
    "colab": {
      "provenance": [],
      "include_colab_link": true
    },
    "kernelspec": {
      "name": "python3",
      "display_name": "Python 3"
    },
    "language_info": {
      "name": "python"
    }
  },
  "cells": [
    {
      "cell_type": "markdown",
      "metadata": {
        "id": "view-in-github",
        "colab_type": "text"
      },
      "source": [
        "<a href=\"https://colab.research.google.com/github/Ninevv/RAG_Project/blob/Zineb/Copie_de_Project_RAG.ipynb\" target=\"_parent\"><img src=\"https://colab.research.google.com/assets/colab-badge.svg\" alt=\"Open In Colab\"/></a>"
      ]
    },
    {
      "cell_type": "markdown",
      "source": [
        "# Project : RAG\n",
        "\n",
        "The goal of this project is to create a simple LLMs based RAG module. Obviously the most complex part is how to correctly link all components. We let you free to create your own database. Anything can be ragged, from research paper, songs, subtitles, books,...\n",
        "\n",
        "This project is voluntarly sparsely helped, as, as engineers, you will dig into lots of existing method, and will need to pick the best one up. We want you to get familiar with the engineering world.\n",
        "\n",
        "We will give you some recommendations. You will see lots of issues during this project, some you've already seen during Labs, other that are new. So buckle up, read the docs, and RAG your data.\n",
        "\n",
        "Obviously there are lots of tutorials of the internet that you could just copy paste to get a baseline.\n",
        "\n",
        "\n",
        "## **We encourage you to do code versioning using Github.**\n",
        "\n",
        "\n",
        "**Ideal Project Timeline:**\n",
        "\n",
        "*   Talking and getting to know the Modules. Discussing about the choice of your LLMs and the environment you'll have. Choosing a first set of data to RAG. Setting up your Github (Optional) (1h)\n",
        "*   Setting up your first RAG Chain using Langchain or other (2-3h)\n",
        "*   Understand the limitation of your RAG and find enhancements to set up your 2nd RAG. (2h)\n",
        "*   Unveiling the unknown document, adapt your RAGs (2h)\n",
        "*   Deploy it (Optional)\n",
        "*   Begin your presentation (2h)\n",
        "*   Presentation (5 min/groups)\n",
        "\n",
        "\n",
        "We'll evaluate your presentation quality, your RAG system's capability, and your progress throughout the project sessions.\n",
        "\n",
        "**Students who missed the first session will start with a score of 0 in the progress part**. :-)\n"
      ],
      "metadata": {
        "id": "eLtiBx5FOWer"
      }
    },
    {
      "cell_type": "markdown",
      "source": [
        "Presentation:\n",
        "- The number of slides you can do is unlimited\n",
        "- You only have 5 min to present your project. We will stop you at 5 min whether you've finished or not\n",
        "- Your presentation should include:\n",
        "  - a presentation of your workflow (Agile Methodology, What's the job of each one...)\n",
        "  - a presentation of your final pipeline with all enhancements done\n",
        "  - a proof a work of your RAG on your data, and on the unknown data\n",
        "  - what limitations you have and how to tackle them. For each too obvious limitations (more GPUs, more RAM..) : -1\n",
        "  - if you've deployed your RAG, a scannable QR code to live test it."
      ],
      "metadata": {
        "id": "Jd-X5ehunElN"
      }
    },
    {
      "cell_type": "markdown",
      "source": [
        "#  Preliminaries : Some useful downloads\n",
        "\n",
        "We give you some useful frameworks, that you could use to build your RAG."
      ],
      "metadata": {
        "id": "53l6aIRMhsJL"
      }
    },
    {
      "cell_type": "code",
      "source": [
        "!pip install -q pypdf python-dotenv\n",
        "!pip install transformers\n",
        "!pip install -q datasets loralib sentencepiece\n",
        "!pip install -q einops accelerate langchain bitsandbytes\n",
        "!pip install sentence_transformers\n",
        "!pip install llama-index\n",
        "!%pip install --upgrade --quiet  langchain langchain-openai faiss-cpu tiktoken\n"
      ],
      "metadata": {
        "id": "pty32z_YuW_f"
      },
      "execution_count": null,
      "outputs": []
    },
    {
      "cell_type": "code",
      "source": [
        "!pip install chromadb"
      ],
      "metadata": {
        "id": "3UimK2nYjfrg"
      },
      "execution_count": null,
      "outputs": []
    },
    {
      "cell_type": "code",
      "source": [
        "!pip install langchain_openai"
      ],
      "metadata": {
        "id": "BOg9xicsjT9P"
      },
      "execution_count": null,
      "outputs": []
    },
    {
      "cell_type": "code",
      "source": [
        "import getpass\n",
        "import os\n",
        "\n",
        "os.environ[\"OPENAI_API_KEY\"] = getpass.getpass()\n",
        "\n",
        "# import dotenv\n",
        "\n",
        "# dotenv.load_dotenv()"
      ],
      "metadata": {
        "id": "t0m9uGeChuAb",
        "colab": {
          "base_uri": "https://localhost:8080/"
        },
        "outputId": "cf6ed421-838e-47d9-fc6f-16c858e12cff"
      },
      "execution_count": 69,
      "outputs": [
        {
          "name": "stdout",
          "output_type": "stream",
          "text": [
            "··········\n"
          ]
        }
      ]
    },
    {
      "cell_type": "markdown",
      "source": [
        "# I - Data Sourcing\n",
        "\n",
        "Data Sourcing for RAG is really simple. Some questions to guide you:\n",
        "\n",
        "* What data do we need ?\n",
        "* How can we correctly parse the data ?\n",
        "* Does the vector index provides a good representation for the vector database ?\n",
        "* For example, using FAISS, can you easily retrieve your document ?\n",
        "\n",
        "To begin, pick a simple story and store it in a Vector Database. You have the choice between multiple VectorStores (ChromaDB, QDrant,...)\n"
      ],
      "metadata": {
        "id": "NmBmFi1LzltU"
      }
    },
    {
      "cell_type": "markdown",
      "source": [
        "#Indexing : Loading data #"
      ],
      "metadata": {
        "id": "CVTUyFA3DB4N"
      }
    },
    {
      "cell_type": "markdown",
      "source": [
        "#PDF#"
      ],
      "metadata": {
        "id": "YQ0a1SIQDJoh"
      }
    },
    {
      "cell_type": "code",
      "source": [
        "!pip install pypdf\n",
        "!pip install rapidocr-onnxruntime"
      ],
      "metadata": {
        "id": "W7tJxuKbDBic",
        "colab": {
          "base_uri": "https://localhost:8080/"
        },
        "outputId": "11a46010-cfea-4cb5-b168-ea2c57fe511b"
      },
      "execution_count": 70,
      "outputs": [
        {
          "output_type": "stream",
          "name": "stdout",
          "text": [
            "Requirement already satisfied: pypdf in /usr/local/lib/python3.10/dist-packages (4.1.0)\n",
            "Requirement already satisfied: rapidocr-onnxruntime in /usr/local/lib/python3.10/dist-packages (1.3.15)\n",
            "Requirement already satisfied: pyclipper>=1.2.0 in /usr/local/lib/python3.10/dist-packages (from rapidocr-onnxruntime) (1.3.0.post5)\n",
            "Requirement already satisfied: onnxruntime>=1.7.0 in /usr/local/lib/python3.10/dist-packages (from rapidocr-onnxruntime) (1.17.1)\n",
            "Requirement already satisfied: opencv-python>=4.5.1.48 in /usr/local/lib/python3.10/dist-packages (from rapidocr-onnxruntime) (4.8.0.76)\n",
            "Requirement already satisfied: numpy>=1.19.5 in /usr/local/lib/python3.10/dist-packages (from rapidocr-onnxruntime) (1.25.2)\n",
            "Requirement already satisfied: six>=1.15.0 in /usr/local/lib/python3.10/dist-packages (from rapidocr-onnxruntime) (1.16.0)\n",
            "Requirement already satisfied: Shapely>=1.7.1 in /usr/local/lib/python3.10/dist-packages (from rapidocr-onnxruntime) (2.0.3)\n",
            "Requirement already satisfied: PyYAML in /usr/local/lib/python3.10/dist-packages (from rapidocr-onnxruntime) (6.0.1)\n",
            "Requirement already satisfied: Pillow in /usr/local/lib/python3.10/dist-packages (from rapidocr-onnxruntime) (9.4.0)\n",
            "Requirement already satisfied: coloredlogs in /usr/local/lib/python3.10/dist-packages (from onnxruntime>=1.7.0->rapidocr-onnxruntime) (15.0.1)\n",
            "Requirement already satisfied: flatbuffers in /usr/local/lib/python3.10/dist-packages (from onnxruntime>=1.7.0->rapidocr-onnxruntime) (24.3.7)\n",
            "Requirement already satisfied: packaging in /usr/local/lib/python3.10/dist-packages (from onnxruntime>=1.7.0->rapidocr-onnxruntime) (23.2)\n",
            "Requirement already satisfied: protobuf in /usr/local/lib/python3.10/dist-packages (from onnxruntime>=1.7.0->rapidocr-onnxruntime) (3.20.3)\n",
            "Requirement already satisfied: sympy in /usr/local/lib/python3.10/dist-packages (from onnxruntime>=1.7.0->rapidocr-onnxruntime) (1.12)\n",
            "Requirement already satisfied: humanfriendly>=9.1 in /usr/local/lib/python3.10/dist-packages (from coloredlogs->onnxruntime>=1.7.0->rapidocr-onnxruntime) (10.0)\n",
            "Requirement already satisfied: mpmath>=0.19 in /usr/local/lib/python3.10/dist-packages (from sympy->onnxruntime>=1.7.0->rapidocr-onnxruntime) (1.3.0)\n"
          ]
        }
      ]
    },
    {
      "cell_type": "code",
      "source": [
        "%pip install -qU langchain-text-splitters\n",
        "from langchain_community.document_loaders import WebBaseLoader"
      ],
      "metadata": {
        "id": "ZgmW6mq_-wze"
      },
      "execution_count": 71,
      "outputs": []
    },
    {
      "cell_type": "code",
      "source": [
        "from langchain_community.document_loaders import PyPDFLoader\n",
        "\n",
        "loader = PyPDFLoader(\"RAG_Data/Definition of literary movement.pdf\", extract_images=True)\n",
        "pages = loader.load_and_split()"
      ],
      "metadata": {
        "id": "xkQ6IbZLEGk-"
      },
      "execution_count": 72,
      "outputs": []
    },
    {
      "cell_type": "code",
      "source": [
        "pages[0]"
      ],
      "metadata": {
        "id": "XS76Foh3EVc6",
        "colab": {
          "base_uri": "https://localhost:8080/"
        },
        "outputId": "50be6a7a-c42c-4816-8b9a-b54b0a6a4ff3"
      },
      "execution_count": 73,
      "outputs": [
        {
          "output_type": "execute_result",
          "data": {
            "text/plain": [
              "Document(page_content='Definition of literary movement  \\n  \\nA literary movement is a term that brings together authors whose writing style and vision of \\nliterature share many common traits. Sometimes, these authors form veritable schools (such as \\nnaturalism) with a common project.  \\n  \\n   \\n  \\nHumanism  \\n  \\nHumanism, a 19th -century term, refers to a European literary and philosophical cultural movement \\nof the 15th and 16th centuries, corresponding to the Renaissance.  \\n  \\nIn France, the main figures of humanism as a literary movement are Rabelais (c. 1494 - 1553), Marot \\n(1496 - 1544), Montaigne (1533 - 1592) and the Pléiade poets (see below). The Dutchman Erasmus \\n(1467 - 1536), however, is the author who most embodies, as a  symbol, European humanism.  \\n  \\nHumanism is characterized above all by the status it confers on ancient sources. The great authors of \\nGreek and Latin antiquity (e.g. Plato, Aristotle, Cicero, Plutarch, Homer, Virgil, etc.) became models \\nto be imitated. The study of their texts had not di sappeared in the Middle Ages. But the rediscovery \\nand appropriation of these works accelerated.  \\n  \\nThis \"return\" to ancient sources was aided by the upheavals in Renaissance Europe, which began in \\n14th -century Italy. Alongside painters who drew inspiration from ancient mythology, or scholars who \\nsought to renew knowledge, Italian authors (Boccaccio, Dan te, Petrarch) initiated this movement of \\nimitation of the \"Ancients\" in literature (notably Virgil and Horace). Then, around 1450, the German \\nGutemberg (1400 - 1468) perfected printing by inventing movable metal type, which enabled books, \\nand therefore kno wledge, to be much more widely distributed. Finally, the retreat of the Byzantine \\nEmpire, heir to the Roman Empire and bearer of its Greco -Latin culture, followed by its final fall when \\nConstantinople was taken by the Ottomans in 1453, encouraged the trans fer of ancient knowledge \\nto Italy and thus to Europe.  \\n  \\nHumanists became familiar with ancient texts in their original language. They learned Latin, the \\nscholarly language of the day, as well as Greek and Hebrew. They translated texts and sought to \\nrediscover their original form. They went straight to the sourc e, sometimes discarding the \\ncommentaries and mistranslations of the Middle Ages. The latter was seen as a repulsive factor. The \\nmyth of the Middle Ages as barbaric, Gothic and dark was born.', metadata={'source': 'RAG_Data/Definition of literary movement.pdf', 'page': 0})"
            ]
          },
          "metadata": {},
          "execution_count": 73
        }
      ]
    },
    {
      "cell_type": "markdown",
      "source": [
        "#Indexing : Split#"
      ],
      "metadata": {
        "id": "BCmxoUZNBC9b"
      }
    },
    {
      "cell_type": "code",
      "source": [
        "from langchain_text_splitters import RecursiveCharacterTextSplitter\n",
        "\n",
        "text_splitter = RecursiveCharacterTextSplitter(\n",
        "    chunk_size=1000,\n",
        "    chunk_overlap=200, # !!\n",
        "    add_start_index=True\n",
        ")\n",
        "all_splits = text_splitter.split_documents(pages)"
      ],
      "metadata": {
        "id": "9yexkB_UBCB4"
      },
      "execution_count": 74,
      "outputs": []
    },
    {
      "cell_type": "code",
      "source": [
        "all_splits[0]\n",
        "len(all_splits)"
      ],
      "metadata": {
        "id": "E7ersL_DMppR",
        "colab": {
          "base_uri": "https://localhost:8080/"
        },
        "outputId": "f3cbe09d-4b67-42b5-fcea-2f62bf034a2f"
      },
      "execution_count": 75,
      "outputs": [
        {
          "output_type": "execute_result",
          "data": {
            "text/plain": [
              "61"
            ]
          },
          "metadata": {},
          "execution_count": 75
        }
      ]
    },
    {
      "cell_type": "code",
      "source": [
        "all_splits[0].page_content\n",
        "len(all_splits[0].page_content)"
      ],
      "metadata": {
        "id": "P90S9sy0Mun-",
        "colab": {
          "base_uri": "https://localhost:8080/"
        },
        "outputId": "96d26f9f-ce6c-47b6-a5b6-a765c5516253"
      },
      "execution_count": 76,
      "outputs": [
        {
          "output_type": "execute_result",
          "data": {
            "text/plain": [
              "954"
            ]
          },
          "metadata": {},
          "execution_count": 76
        }
      ]
    },
    {
      "cell_type": "code",
      "source": [
        "all_splits[0].metadata"
      ],
      "metadata": {
        "id": "uGaVK9-EMowP",
        "colab": {
          "base_uri": "https://localhost:8080/"
        },
        "outputId": "e5f40c4f-6983-4343-f9b4-904f8f399edc"
      },
      "execution_count": 77,
      "outputs": [
        {
          "output_type": "execute_result",
          "data": {
            "text/plain": [
              "{'source': 'RAG_Data/Definition of literary movement.pdf',\n",
              " 'page': 0,\n",
              " 'start_index': 0}"
            ]
          },
          "metadata": {},
          "execution_count": 77
        }
      ]
    },
    {
      "cell_type": "markdown",
      "source": [
        "#Indexing: Store#\n"
      ],
      "metadata": {
        "id": "_fZaYNXwffy7"
      }
    },
    {
      "cell_type": "code",
      "source": [
        "from langchain_community.vectorstores import Chroma\n",
        "from langchain_openai import OpenAIEmbeddings\n",
        "\n",
        "vectorstore = Chroma.from_documents(documents=all_splits, embedding=OpenAIEmbeddings(),\n",
        "                                    persist_directory=\"./chroma_db\")"
      ],
      "metadata": {
        "id": "3h97Tzzrespb"
      },
      "execution_count": 78,
      "outputs": []
    },
    {
      "cell_type": "markdown",
      "source": [
        "#RAG chain : Retrieval and Generation#"
      ],
      "metadata": {
        "id": "L9R0yYrKkI61"
      }
    },
    {
      "cell_type": "code",
      "source": [
        "retriever = vectorstore.as_retriever(search_type=\"similarity\", search_kwargs={\"k\": 6})"
      ],
      "metadata": {
        "id": "sXObdMP7kLu-"
      },
      "execution_count": 79,
      "outputs": []
    },
    {
      "cell_type": "code",
      "source": [
        "query = r\" How long ?\"\n",
        "retrieved_docs = retriever.invoke(query)"
      ],
      "metadata": {
        "id": "npNoDXlckfe6"
      },
      "execution_count": 100,
      "outputs": []
    },
    {
      "cell_type": "code",
      "source": [
        "len(retrieved_docs)"
      ],
      "metadata": {
        "id": "9OQyY1lBk3SY",
        "colab": {
          "base_uri": "https://localhost:8080/"
        },
        "outputId": "f499ca5e-0d7b-48a0-80b1-4c74ddddc7a3"
      },
      "execution_count": 101,
      "outputs": [
        {
          "output_type": "execute_result",
          "data": {
            "text/plain": [
              "6"
            ]
          },
          "metadata": {},
          "execution_count": 101
        }
      ]
    },
    {
      "cell_type": "code",
      "source": [
        "print(retrieved_docs[0].page_content)"
      ],
      "metadata": {
        "id": "t3H86kb-k9yV",
        "colab": {
          "base_uri": "https://localhost:8080/"
        },
        "outputId": "5ec40560-40b9-4dd6-8c5f-27f683392b32"
      },
      "execution_count": 102,
      "outputs": [
        {
          "output_type": "stream",
          "name": "stdout",
          "text": [
            "for regularity. It follows rules, loves order and symmetry, and seeks formal perfection. In his Discours \n",
            "de la méthode (1637), René Descartes (1596 - 1650) proposes a method, i.e. a rational way of \n",
            "conducting thought, to achieve all forms of knowledge.  \n",
            "  \n",
            "It seeks to instruct man through beauty, to \"reform\" him, i.e. purge him of his passions (the Greek \n",
            "catharsis) and subject him to reason. Thus, each of La Fontaine's fables ends with an edifying moral.  \n",
            "  \n",
            "In the theater, this classicism is reflected in the famous rule of the three unities:  \n",
            "unity of action: a single plot (whereas the Baroque preferred complex plots);  \n",
            "unity of time: the plot unfolds over the course of one day;  \n",
            "unity of place: the plot takes place in a single location.  \n",
            "Examples of works: Le Cid (Corneille, 1637), Sermon sur la mort (Bossuet, 1662), L'École des femmes \n",
            "(Molière, 1662), Maximes (La Rochefoucauld, 1664 -1678), Dom Juan (Molière, 1665), Andromaque\n"
          ]
        }
      ]
    },
    {
      "cell_type": "code",
      "source": [
        "# save to disk\n",
        "# db2 = Chroma.from_documents(docs, embedding_function, persist_directory=\"./chroma_db\")\n",
        "vectorstore.persist()\n",
        "docs = vectorstore.similarity_search(query)\n"
      ],
      "metadata": {
        "id": "P-VV96B49vcS"
      },
      "execution_count": 103,
      "outputs": []
    },
    {
      "cell_type": "code",
      "source": [
        "docs"
      ],
      "metadata": {
        "id": "zhtz2R_v-av1",
        "colab": {
          "base_uri": "https://localhost:8080/"
        },
        "outputId": "3f437348-c032-4220-e7d3-c524eb6b83dd"
      },
      "execution_count": 104,
      "outputs": [
        {
          "output_type": "execute_result",
          "data": {
            "text/plain": [
              "[Document(page_content='for regularity. It follows rules, loves order and symmetry, and seeks formal perfection. In his Discours \\nde la méthode (1637), René Descartes (1596 - 1650) proposes a method, i.e. a rational way of \\nconducting thought, to achieve all forms of knowledge.  \\n  \\nIt seeks to instruct man through beauty, to \"reform\" him, i.e. purge him of his passions (the Greek \\ncatharsis) and subject him to reason. Thus, each of La Fontaine\\'s fables ends with an edifying moral.  \\n  \\nIn the theater, this classicism is reflected in the famous rule of the three unities:  \\nunity of action: a single plot (whereas the Baroque preferred complex plots);  \\nunity of time: the plot unfolds over the course of one day;  \\nunity of place: the plot takes place in a single location.  \\nExamples of works: Le Cid (Corneille, 1637), Sermon sur la mort (Bossuet, 1662), L\\'École des femmes \\n(Molière, 1662), Maximes (La Rochefoucauld, 1664 -1678), Dom Juan (Molière, 1665), Andromaque', metadata={'page': 5, 'source': 'RAG_Data/Definition of literary movement.pdf', 'start_index': 839}),\n",
              " Document(page_content='for regularity. It follows rules, loves order and symmetry, and seeks formal perfection. In his Discours \\nde la méthode (1637), René Descartes (1596 - 1650) proposes a method, i.e. a rational way of \\nconducting thought, to achieve all forms of knowledge.  \\n  \\nIt seeks to instruct man through beauty, to \"reform\" him, i.e. purge him of his passions (the Greek \\ncatharsis) and subject him to reason. Thus, each of La Fontaine\\'s fables ends with an edifying moral.  \\n  \\nIn the theater, this classicism is reflected in the famous rule of the three unities:  \\nunity of action: a single plot (whereas the Baroque preferred complex plots);  \\nunity of time: the plot unfolds over the course of one day;  \\nunity of place: the plot takes place in a single location.  \\nExamples of works: Le Cid (Corneille, 1637), Sermon sur la mort (Bossuet, 1662), L\\'École des femmes \\n(Molière, 1662), Maximes (La Rochefoucauld, 1664 -1678), Dom Juan (Molière, 1665), Andromaque', metadata={'page': 5, 'source': 'RAG_Data/Definition of literary movement.pdf', 'start_index': 839}),\n",
              " Document(page_content=\"Same, the humanity that binds us to this man (Montaigne's Cannibals).  \\nThis questioning is critical of society: Montaigne's Essais contain a subversive dimension. This is also \\nthe case with Rabelais, who mocks the society of his time in Pantagruel (1532) and Gargantua (1534). \\nIn his Discours sur la servitude volontaire (1576,  posthumous), Montaigne's friend Étienne de la \\nBoétie (1530 - 1563) formulated one of the first major modern critiques of power.  \\n  \\nFinally, humanist Europe is a Christian Europe. The same approach, applied to the texts of the \\nAncients, was used for the biblical text: the aim was to return to the original text and free oneself \\nfrom traditional readings. This trend coincided with the de velopment of the Protestant Reformation, \\nwhich many humanists felt close to. In France, Lefevres d'Étaples (1460 - 1536) translated the \\nGospels from the Latin Vulgate, with the help of Greek corrections. In Germany, Martin Luther (1483\", metadata={'page': 1, 'source': 'RAG_Data/Definition of literary movement.pdf', 'start_index': 804}),\n",
              " Document(page_content=\"Same, the humanity that binds us to this man (Montaigne's Cannibals).  \\nThis questioning is critical of society: Montaigne's Essais contain a subversive dimension. This is also \\nthe case with Rabelais, who mocks the society of his time in Pantagruel (1532) and Gargantua (1534). \\nIn his Discours sur la servitude volontaire (1576,  posthumous), Montaigne's friend Étienne de la \\nBoétie (1530 - 1563) formulated one of the first major modern critiques of power.  \\n  \\nFinally, humanist Europe is a Christian Europe. The same approach, applied to the texts of the \\nAncients, was used for the biblical text: the aim was to return to the original text and free oneself \\nfrom traditional readings. This trend coincided with the de velopment of the Protestant Reformation, \\nwhich many humanists felt close to. In France, Lefevres d'Étaples (1460 - 1536) translated the \\nGospels from the Latin Vulgate, with the help of Greek corrections. In Germany, Martin Luther (1483\", metadata={'page': 1, 'source': 'RAG_Data/Definition of literary movement.pdf', 'start_index': 804})]"
            ]
          },
          "metadata": {},
          "execution_count": 104
        }
      ]
    },
    {
      "cell_type": "markdown",
      "source": [
        "# II - Module Creation\n",
        "\n",
        "Should you create a RAG Module, you need or not a LLM. We encourage you to test some LLMs (Mistral, LLama, Falcon, Gemma, ...) However, be aware that you won't have the space to run it on this colab.\n",
        "\n",
        "We highly recommend to use LangChain, to build your Q&A app.\n",
        "\n",
        "Some Questions to guide you:\n",
        "* What model is easily accesible\n",
        "* Are there any existing code to begin with ?\n",
        "* What about the prompts ?\n",
        "* What about the document parsing ?\n"
      ],
      "metadata": {
        "id": "JPNynNQm0z4N"
      }
    },
    {
      "cell_type": "code",
      "source": [
        "from transformers import AutoModelForCausalLM, AutoTokenizer\n",
        "\n",
        "model = AutoModelForCausalLM.from_pretrained(\"mistralai/Mistral-7B-v0.1\", device_map=\"auto\")\n",
        "tokenizer = AutoTokenizer.from_pretrained(\"mistralai/Mistral-7B-v0.1\")\n",
        "\n",
        "prompt = \"My favourite condiment is\"\n",
        "\n",
        "model_inputs = tokenizer([prompt], return_tensors=\"pt\").to(\"cuda\")\n",
        "model.to(device)\n",
        "\n",
        "generated_ids = model.generate(**model_inputs, max_new_tokens=100, do_sample=True)\n",
        "tokenizer.batch_decode(generated_ids)[0]"
      ],
      "metadata": {
        "id": "lzXrrkpTiJxW"
      },
      "execution_count": null,
      "outputs": []
    },
    {
      "cell_type": "markdown",
      "source": [
        "# III - Model Serving (Optional and for the best)\n",
        "\n",
        "You can inspire yourself from the first hands-on, if your feeling powerful, you can build something using fastapi and push your deployed RAG into a simple github.io instance. Or just use the gradio deploiement framework."
      ],
      "metadata": {
        "id": "JeMHYQwc02uG"
      }
    },
    {
      "cell_type": "markdown",
      "source": [
        "##"
      ],
      "metadata": {
        "id": "SjiQrHTgdWGm"
      }
    }
  ]
}